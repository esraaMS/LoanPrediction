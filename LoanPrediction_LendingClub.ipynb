{
 "cells": [
  {
   "cell_type": "code",
   "execution_count": 19,
   "metadata": {
    "collapsed": false
   },
   "outputs": [
    {
     "name": "stdout",
     "output_type": "stream",
     "text": [
      "['Fully Paid' 'Current' 'Charged Off' 'Late (31-120 days)'\n",
      " 'In Grace Period' 'Late (16-30 days)' 'Default' nan]\n",
      "(188183, 115)\n"
     ]
    }
   ],
   "source": [
    "import pandas as pd\n",
    "pd.options.mode.chained_assignment = None\n",
    "\n",
    "raw_data = pd.read_csv(\"LendingClub2012to2013.csv\", low_memory = False, skiprows=[0])\n",
    "\n",
    "#  take out the non-fully paid off loans\n",
    "print(raw_data['loan_status'].unique())\n",
    "print(raw_data.shape)"
   ]
  },
  {
   "cell_type": "code",
   "execution_count": 20,
   "metadata": {
    "collapsed": true
   },
   "outputs": [],
   "source": [
    "# Eliminate the rows that aren't \"complete\"\n",
    "# Dropping current loans and the ones that are a few months late and leave behind the defaults and the paid off loans\n",
    "no_incomplete_rows = raw_data[raw_data['loan_status'].isin(['Fully Paid', 'Charged Off', 'Default'])]\n",
    "no_incomplete_rows['loan_status'] = no_incomplete_rows['loan_status'].apply(lambda x: 0 if x == \"Fully Paid\" else 1)\n",
    "no_incomplete_rows.shape\n",
    "\n",
    "no_incomplete_rows.to_csv(\"test.csv\", index = False) "
   ]
  },
  {
   "cell_type": "code",
   "execution_count": 21,
   "metadata": {
    "collapsed": true
   },
   "outputs": [],
   "source": [
    "# remove leakage\n",
    "customer_id = ['id']\n",
    "leakage_to_drop = ['recoveries', 'collection_recovery_fee', 'last_fico_range_high', 'last_fico_range_low', 'last_credit_pull_d', 'total_rec_prncp', 'last_pymnt_amnt', 'total_pymnt', 'total_pymnt_inv', 'last_pymnt_d', 'total_rec_late_fee', 'total_rec_int', 'num_tl_120dpd_2m', 'num_tl_30dpd', 'out_prncp', 'out_prncp_inv', 'pymnt_plan', 'next_pymnt_d']\n",
    "\n",
    "no_information_features_to_drop = ['all_util', 'dti_joint', 'il_util', 'inq_fi', 'inq_last_12m', 'max_bal_bc', 'mths_since_rcnt_il', 'open_acc_6m', 'open_il_12m', 'open_il_24m', 'open_il_6m', 'open_rv_12m', 'open_rv_24m', 'total_bal_il', 'verification_status_joint', 'annual_inc_joint', 'application_type',  'policy_code', 'total_cu_tl']\n",
    "\n",
    "no_leakage = no_incomplete_rows.drop(no_information_features_to_drop + no_information_features_to_drop + customer_id, axis = 1)\n",
    "\n",
    "no_leakage.to_csv(\"test.csv\", index = False)"
   ]
  },
  {
   "cell_type": "code",
   "execution_count": 30,
   "metadata": {
    "collapsed": false
   },
   "outputs": [],
   "source": [
    "import numpy as np"
   ]
  },
  {
   "cell_type": "code",
   "execution_count": 31,
   "metadata": {
    "collapsed": false
   },
   "outputs": [
    {
     "name": "stdout",
     "output_type": "stream",
     "text": [
      "     ['int_rate']: 0.677046\n",
      "     ['term_36_months']: 0.603925\n",
      "     ['term_60_months']: 0.603925\n",
      "     ['fico_range_high']: 0.588323\n",
      "     ['grade_A']: 0.563553\n",
      "     ['grade_B']: 0.564159\n",
      "     ['grade_C']: 0.524129\n",
      "     ['grade_D']: 0.540717\n",
      "     ['grade_E']: 0.534973\n",
      "     ['grade_F']: 0.522754\n",
      "     ['grade_G']: 0.505139\n",
      "     ['loan_amnt']: 0.527339\n",
      "     ['dti']: 0.568756\n",
      "Best model for this round: ['int_rate']: 0.677046\n",
      "     ['int_rate', 'term_36_months']: 0.689433\n",
      "     ['int_rate', 'term_60_months']: 0.689433\n",
      "     ['int_rate', 'fico_range_high']: 0.672948\n",
      "     ['int_rate', 'grade_A']: 0.677043\n",
      "     ['int_rate', 'grade_B']: 0.677045\n",
      "     ['int_rate', 'grade_C']: 0.677068\n",
      "     ['int_rate', 'grade_D']: 0.677011\n",
      "     ['int_rate', 'grade_E']: 0.677020\n",
      "     ['int_rate', 'grade_F']: 0.677046\n",
      "     ['int_rate', 'grade_G']: 0.677044\n",
      "     ['int_rate', 'loan_amnt']: 0.351421\n",
      "     ['int_rate', 'dti']: 0.682104\n",
      "Best model for this round: ['int_rate', 'term_36_months']: 0.689433\n",
      "     ['int_rate', 'term_36_months', 'term_60_months']: 0.689433\n",
      "     ['int_rate', 'term_36_months', 'fico_range_high']: 0.690036\n",
      "     ['int_rate', 'term_36_months', 'grade_A']: 0.689575\n",
      "     ['int_rate', 'term_36_months', 'grade_B']: 0.689437\n",
      "     ['int_rate', 'term_36_months', 'grade_C']: 0.689472\n",
      "     ['int_rate', 'term_36_months', 'grade_D']: 0.689456\n",
      "     ['int_rate', 'term_36_months', 'grade_E']: 0.689491\n",
      "     ['int_rate', 'term_36_months', 'grade_F']: 0.689396\n",
      "     ['int_rate', 'term_36_months', 'grade_G']: 0.689420\n",
      "     ['int_rate', 'term_36_months', 'loan_amnt']: 0.620777\n",
      "     ['int_rate', 'term_36_months', 'dti']: 0.693732\n",
      "Best model for this round: ['int_rate', 'term_36_months', 'dti']: 0.693732\n",
      "     ['int_rate', 'term_36_months', 'dti', 'term_60_months']: 0.693734\n",
      "     ['int_rate', 'term_36_months', 'dti', 'fico_range_high']: 0.694292\n",
      "     ['int_rate', 'term_36_months', 'dti', 'grade_A']: 0.693787\n",
      "     ['int_rate', 'term_36_months', 'dti', 'grade_B']: 0.693701\n",
      "     ['int_rate', 'term_36_months', 'dti', 'grade_C']: 0.693785\n",
      "     ['int_rate', 'term_36_months', 'dti', 'grade_D']: 0.693689\n",
      "     ['int_rate', 'term_36_months', 'dti', 'grade_E']: 0.693813\n",
      "     ['int_rate', 'term_36_months', 'dti', 'grade_F']: 0.693764\n",
      "     ['int_rate', 'term_36_months', 'dti', 'grade_G']: 0.693746\n",
      "     ['int_rate', 'term_36_months', 'dti', 'loan_amnt']: 0.599533\n",
      "Best model for this round: ['int_rate', 'term_36_months', 'dti', 'fico_range_high']: 0.694292\n",
      "     ['int_rate', 'term_36_months', 'dti', 'fico_range_high', 'term_60_months']: 0.694225\n",
      "     ['int_rate', 'term_36_months', 'dti', 'fico_range_high', 'grade_A']: 0.694301\n",
      "     ['int_rate', 'term_36_months', 'dti', 'fico_range_high', 'grade_B']: 0.694231\n",
      "     ['int_rate', 'term_36_months', 'dti', 'fico_range_high', 'grade_C']: 0.694262\n",
      "     ['int_rate', 'term_36_months', 'dti', 'fico_range_high', 'grade_D']: 0.694340\n",
      "     ['int_rate', 'term_36_months', 'dti', 'fico_range_high', 'grade_E']: 0.694281\n",
      "     ['int_rate', 'term_36_months', 'dti', 'fico_range_high', 'grade_F']: 0.694310\n",
      "     ['int_rate', 'term_36_months', 'dti', 'fico_range_high', 'grade_G']: 0.694293\n",
      "     ['int_rate', 'term_36_months', 'dti', 'fico_range_high', 'loan_amnt']: 0.680932\n",
      "Best model for this round: ['int_rate', 'term_36_months', 'dti', 'fico_range_high', 'grade_D']: 0.694340\n",
      "     ['int_rate', 'term_36_months', 'dti', 'fico_range_high', 'grade_D', 'term_60_months']: 0.694256\n",
      "     ['int_rate', 'term_36_months', 'dti', 'fico_range_high', 'grade_D', 'grade_A']: 0.694368\n",
      "     ['int_rate', 'term_36_months', 'dti', 'fico_range_high', 'grade_D', 'grade_B']: 0.694270\n",
      "     ['int_rate', 'term_36_months', 'dti', 'fico_range_high', 'grade_D', 'grade_C']: 0.694411\n",
      "     ['int_rate', 'term_36_months', 'dti', 'fico_range_high', 'grade_D', 'grade_E']: 0.694338\n",
      "     ['int_rate', 'term_36_months', 'dti', 'fico_range_high', 'grade_D', 'grade_F']: 0.694352\n",
      "     ['int_rate', 'term_36_months', 'dti', 'fico_range_high', 'grade_D', 'grade_G']: 0.694341\n",
      "     ['int_rate', 'term_36_months', 'dti', 'fico_range_high', 'grade_D', 'loan_amnt']: 0.680922\n",
      "Best model for this round: ['int_rate', 'term_36_months', 'dti', 'fico_range_high', 'grade_D', 'grade_C']: 0.694411\n",
      "     ['int_rate', 'term_36_months', 'dti', 'fico_range_high', 'grade_D', 'grade_C', 'term_60_months']: 0.694314\n",
      "     ['int_rate', 'term_36_months', 'dti', 'fico_range_high', 'grade_D', 'grade_C', 'grade_A']: 0.694518\n",
      "     ['int_rate', 'term_36_months', 'dti', 'fico_range_high', 'grade_D', 'grade_C', 'grade_B']: 0.694318\n",
      "     ['int_rate', 'term_36_months', 'dti', 'fico_range_high', 'grade_D', 'grade_C', 'grade_E']: 0.694372\n",
      "     ['int_rate', 'term_36_months', 'dti', 'fico_range_high', 'grade_D', 'grade_C', 'grade_F']: 0.694421\n",
      "     ['int_rate', 'term_36_months', 'dti', 'fico_range_high', 'grade_D', 'grade_C', 'grade_G']: 0.694414\n",
      "     ['int_rate', 'term_36_months', 'dti', 'fico_range_high', 'grade_D', 'grade_C', 'loan_amnt']: 0.680946\n",
      "Best model for this round: ['int_rate', 'term_36_months', 'dti', 'fico_range_high', 'grade_D', 'grade_C', 'grade_A']: 0.694518\n",
      "     ['int_rate', 'term_36_months', 'dti', 'fico_range_high', 'grade_D', 'grade_C', 'grade_A', 'term_60_months']: 0.694390\n",
      "     ['int_rate', 'term_36_months', 'dti', 'fico_range_high', 'grade_D', 'grade_C', 'grade_A', 'grade_B']: 0.694499\n",
      "     ['int_rate', 'term_36_months', 'dti', 'fico_range_high', 'grade_D', 'grade_C', 'grade_A', 'grade_E']: 0.694483\n",
      "     ['int_rate', 'term_36_months', 'dti', 'fico_range_high', 'grade_D', 'grade_C', 'grade_A', 'grade_F']: 0.694525\n",
      "     ['int_rate', 'term_36_months', 'dti', 'fico_range_high', 'grade_D', 'grade_C', 'grade_A', 'grade_G']: 0.694535\n",
      "     ['int_rate', 'term_36_months', 'dti', 'fico_range_high', 'grade_D', 'grade_C', 'grade_A', 'loan_amnt']: 0.681026\n",
      "Best model for this round: ['int_rate', 'term_36_months', 'dti', 'fico_range_high', 'grade_D', 'grade_C', 'grade_A', 'grade_G']: 0.694535\n",
      "     ['int_rate', 'term_36_months', 'dti', 'fico_range_high', 'grade_D', 'grade_C', 'grade_A', 'grade_G', 'term_60_months']: 0.694391\n",
      "     ['int_rate', 'term_36_months', 'dti', 'fico_range_high', 'grade_D', 'grade_C', 'grade_A', 'grade_G', 'grade_B']: 0.694501\n",
      "     ['int_rate', 'term_36_months', 'dti', 'fico_range_high', 'grade_D', 'grade_C', 'grade_A', 'grade_G', 'grade_E']: 0.694486\n",
      "     ['int_rate', 'term_36_months', 'dti', 'fico_range_high', 'grade_D', 'grade_C', 'grade_A', 'grade_G', 'grade_F']: 0.694542\n",
      "     ['int_rate', 'term_36_months', 'dti', 'fico_range_high', 'grade_D', 'grade_C', 'grade_A', 'grade_G', 'loan_amnt']: 0.681026\n",
      "Best model for this round: ['int_rate', 'term_36_months', 'dti', 'fico_range_high', 'grade_D', 'grade_C', 'grade_A', 'grade_G', 'grade_F']: 0.694542\n",
      "     ['int_rate', 'term_36_months', 'dti', 'fico_range_high', 'grade_D', 'grade_C', 'grade_A', 'grade_G', 'grade_F', 'term_60_months']: 0.694367\n",
      "     ['int_rate', 'term_36_months', 'dti', 'fico_range_high', 'grade_D', 'grade_C', 'grade_A', 'grade_G', 'grade_F', 'grade_B']: 0.694435\n",
      "     ['int_rate', 'term_36_months', 'dti', 'fico_range_high', 'grade_D', 'grade_C', 'grade_A', 'grade_G', 'grade_F', 'grade_E']: 0.694511\n",
      "     ['int_rate', 'term_36_months', 'dti', 'fico_range_high', 'grade_D', 'grade_C', 'grade_A', 'grade_G', 'grade_F', 'loan_amnt']: 0.681025\n",
      "Best model for this round: ['int_rate', 'term_36_months', 'dti', 'fico_range_high', 'grade_D', 'grade_C', 'grade_A', 'grade_G', 'grade_F', 'grade_E']: 0.694511\n",
      "     ['int_rate', 'term_36_months', 'dti', 'fico_range_high', 'grade_D', 'grade_C', 'grade_A', 'grade_G', 'grade_F', 'grade_E', 'term_60_months']: 0.694354\n",
      "     ['int_rate', 'term_36_months', 'dti', 'fico_range_high', 'grade_D', 'grade_C', 'grade_A', 'grade_G', 'grade_F', 'grade_E', 'grade_B']: 0.694416\n",
      "     ['int_rate', 'term_36_months', 'dti', 'fico_range_high', 'grade_D', 'grade_C', 'grade_A', 'grade_G', 'grade_F', 'grade_E', 'loan_amnt']: 0.681368\n",
      "Best model for this round: ['int_rate', 'term_36_months', 'dti', 'fico_range_high', 'grade_D', 'grade_C', 'grade_A', 'grade_G', 'grade_F', 'grade_E', 'grade_B']: 0.694416\n",
      "     ['int_rate', 'term_36_months', 'dti', 'fico_range_high', 'grade_D', 'grade_C', 'grade_A', 'grade_G', 'grade_F', 'grade_E', 'grade_B', 'term_60_months']: 0.694360\n",
      "     ['int_rate', 'term_36_months', 'dti', 'fico_range_high', 'grade_D', 'grade_C', 'grade_A', 'grade_G', 'grade_F', 'grade_E', 'grade_B', 'loan_amnt']: 0.681402\n",
      "Best model for this round: ['int_rate', 'term_36_months', 'dti', 'fico_range_high', 'grade_D', 'grade_C', 'grade_A', 'grade_G', 'grade_F', 'grade_E', 'grade_B', 'term_60_months']: 0.694360\n",
      "     ['int_rate', 'term_36_months', 'dti', 'fico_range_high', 'grade_D', 'grade_C', 'grade_A', 'grade_G', 'grade_F', 'grade_E', 'grade_B', 'term_60_months', 'loan_amnt']: 0.683454\n",
      "Best model for this round: ['int_rate', 'term_36_months', 'dti', 'fico_range_high', 'grade_D', 'grade_C', 'grade_A', 'grade_G', 'grade_F', 'grade_E', 'grade_B', 'term_60_months', 'loan_amnt']: 0.683454\n"
     ]
    }
   ],
   "source": [
    "from sklearn import preprocessing\n",
    "from sklearn import model_selection\n",
    "import numpy as np\n",
    "\n",
    "variables_i_want_to_try = ['int_rate', 'grade', 'term', 'fico_range_high','loan_amnt','dti']\n",
    "df = no_leakage[variables_i_want_to_try]\n",
    "\n",
    "#create some dummy variables\n",
    "term_dummies = pd.get_dummies(df['term'], prefix=\"term_\")\n",
    "grade_dummies = pd.get_dummies(df['grade'], prefix=\"grade\")\n",
    "\n",
    "#combine the dummies back in\n",
    "df = pd.concat([df, term_dummies, grade_dummies], axis=1)\n",
    "#rename the term columns\n",
    "df.rename(columns={'term__ 36 months': 'term_36_months', 'term__ 60 months': 'term_60_months'}, inplace=True)\n",
    "\n",
    "# remove % symbol from interest rate variable\n",
    "df['int_rate'] = df['int_rate'].apply(lambda x: x.strip('%'))\n",
    "\n",
    "# pick variables that I want to keep\n",
    "variables_with_dummies = ['int_rate', 'term_36_months', 'term_60_months','fico_range_high', 'grade_A', 'grade_B', 'grade_C', 'grade_D', 'grade_E', 'grade_F', 'grade_G', 'loan_amnt','dti']\n",
    "\n",
    "X = df[variables_with_dummies]\n",
    "y = no_leakage['loan_status']\n",
    "\n",
    "#cross validation\n",
    "\n",
    "cv = model_selection.KFold(5)\n",
    "lr = linear_model.LogisticRegression(C=1000000000000)\n",
    "# model_selection.cross_val_score(lr, X, y, cv=cv, scoring='roc_auc')\n",
    "\n",
    "included = []\n",
    "score_values = [0.5]\n",
    "\n",
    "\n",
    "while len(included) < len(variables_with_dummies):\n",
    "    score = 0.5\n",
    "    best = \"\"\n",
    "    for i in variables_with_dummies:\n",
    "        if i not in included:\n",
    "            attempt = included + [i]\n",
    "            new_score = np.mean(model_selection.cross_val_score(lr, X[attempt], y, cv=cv, scoring='roc_auc'))\n",
    "            print(\"     %s: %f\" %(str(attempt), new_score))\n",
    "            if new_score > score: \n",
    "                best = i\n",
    "                score = new_score\n",
    "    included = included + [best]\n",
    "    score_values = score_values + [score]\n",
    "    print(\"Best model for this round: %s: %f\" %(str(included), score))\n"
   ]
  },
  {
   "cell_type": "code",
   "execution_count": 32,
   "metadata": {
    "collapsed": false
   },
   "outputs": [
    {
     "data": {
      "image/png": "[encoded data removed]",
      "text/plain": [
       "<matplotlib.figure.Figure at 0x29624587588>"
      ]
     },
     "metadata": {},
     "output_type": "display_data"
    }
   ],
   "source": [
    "plt.plot(score_values)\n",
    "plt.ylabel('Model Scores')\n",
    "plt.show()\n"
   ]
  }
 ],
 "metadata": {
  "anaconda-cloud": {},
  "kernelspec": {
   "display_name": "Python [default]",
   "language": "python",
   "name": "python3"
  },
  "language_info": {
   "codemirror_mode": {
    "name": "ipython",
    "version": 3
   },
   "file_extension": ".py",
   "mimetype": "text/x-python",
   "name": "python",
   "nbconvert_exporter": "python",
   "pygments_lexer": "ipython3",
   "version": "3.5.2"
  }
 },
 "nbformat": 4,
 "nbformat_minor": 1
}
